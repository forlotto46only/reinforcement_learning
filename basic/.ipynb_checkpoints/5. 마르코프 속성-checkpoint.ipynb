{
 "cells": [
  {
   "cell_type": "code",
   "execution_count": 3,
   "id": "d9ab5ce4-189f-4324-99d2-4ed18540d698",
   "metadata": {},
   "outputs": [
    {
     "name": "stdout",
     "output_type": "stream",
     "text": [
      "상태 전이 결과: ['파랑', '빨강', '빨강', '파랑', '파랑', '파랑', '파랑', '파랑', '노랑', '빨강', '노랑']\n"
     ]
    }
   ],
   "source": [
    "import random\n",
    "\n",
    "def markov_prop_simulation(steps):\n",
    "    \"\"\" 마르코프 체인을 시뮬레이션하는 함수 \"\"\"\n",
    "    states = ['빨강', '파랑', '노랑']  # 가능한 상태들\n",
    "    transition_matrix = {\n",
    "        '빨강': {'빨강': 0.5, '파랑': 0.3, '노랑': 0.2},\n",
    "        '파랑': {'빨강': 0.2, '파랑': 0.6, '노랑': 0.2},\n",
    "        '노랑': {'빨강': 0.3, '파랑': 0.3, '노랑': 0.4}\n",
    "    }\n",
    "    \n",
    "    current_state = random.choice(states)\n",
    "    sequence = [current_state]\n",
    "    \n",
    "    for _ in range(steps):\n",
    "        next_state = random.choices(\n",
    "            population=list(transition_matrix[current_state].keys()),\n",
    "            weights=list(transition_matrix[current_state].values())\n",
    "        )[0]\n",
    "        sequence.append(next_state)\n",
    "        current_state = next_state\n",
    "    \n",
    "    return sequence\n",
    "\n",
    "# 10단계 마르코프 체인 시뮬레이션 실행\n",
    "simulation_result = markov_prop_simulation(10)\n",
    "print(\"상태 전이 결과:\", simulation_result)"
   ]
  },
  {
   "cell_type": "code",
   "execution_count": null,
   "id": "f4fa6312-d12b-4047-9cd3-44e468b8552c",
   "metadata": {},
   "outputs": [],
   "source": []
  }
 ],
 "metadata": {
  "kernelspec": {
   "display_name": "Python 3 (ipykernel)",
   "language": "python",
   "name": "python3"
  },
  "language_info": {
   "codemirror_mode": {
    "name": "ipython",
    "version": 3
   },
   "file_extension": ".py",
   "mimetype": "text/x-python",
   "name": "python",
   "nbconvert_exporter": "python",
   "pygments_lexer": "ipython3",
   "version": "3.10.3"
  }
 },
 "nbformat": 4,
 "nbformat_minor": 5
}
